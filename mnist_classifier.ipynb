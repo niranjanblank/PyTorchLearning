{
 "cells": [
  {
   "cell_type": "code",
   "execution_count": 1,
   "outputs": [],
   "source": [
    "import torch\n",
    "import torch.nn as nn\n",
    "import torch.optim as optim\n",
    "from torchvision import datasets, transforms\n"
   ],
   "metadata": {
    "collapsed": false,
    "ExecuteTime": {
     "end_time": "2023-05-31T09:00:23.941164800Z",
     "start_time": "2023-05-31T09:00:22.066656400Z"
    }
   }
  },
  {
   "cell_type": "code",
   "execution_count": 2,
   "outputs": [],
   "source": [
    "device = torch.device(\"cuda\" if torch.cuda.is_available() else \"cpu\")"
   ],
   "metadata": {
    "collapsed": false,
    "ExecuteTime": {
     "end_time": "2023-05-30T13:46:29.874518Z",
     "start_time": "2023-05-30T13:46:29.866517900Z"
    }
   }
  },
  {
   "cell_type": "code",
   "execution_count": 5,
   "outputs": [],
   "source": [
    "# Define the neural network architecture\n",
    "class Net(nn.Module):\n",
    "    def __init__(self):\n",
    "        super(Net, self).__init__()\n",
    "        self.fc1 = nn.Linear(784, 256)\n",
    "        self.fc2 = nn.Linear(256, 64)\n",
    "        self.fc3 = nn.Linear(64, 10)\n",
    "\n",
    "    def forward(self, x):\n",
    "        x = x.view(-1, 784)  # Flatten the input tensor\n",
    "        x = torch.relu(self.fc1(x))\n",
    "        x = torch.relu(self.fc2(x))\n",
    "        x = self.fc3(x)\n",
    "        return x\n"
   ],
   "metadata": {
    "collapsed": false,
    "ExecuteTime": {
     "end_time": "2023-05-30T13:46:46.427873700Z",
     "start_time": "2023-05-30T13:46:46.418874100Z"
    }
   }
  },
  {
   "cell_type": "code",
   "execution_count": 6,
   "outputs": [],
   "source": [
    "# Define the training parameters\n",
    "batch_size = 64\n",
    "learning_rate = 0.01\n",
    "epochs = 10"
   ],
   "metadata": {
    "collapsed": false,
    "ExecuteTime": {
     "end_time": "2023-05-30T13:46:51.452389300Z",
     "start_time": "2023-05-30T13:46:51.448389300Z"
    }
   }
  },
  {
   "cell_type": "code",
   "execution_count": 7,
   "outputs": [
    {
     "name": "stdout",
     "output_type": "stream",
     "text": [
      "Downloading http://yann.lecun.com/exdb/mnist/train-images-idx3-ubyte.gz\n"
     ]
    },
    {
     "name": "stderr",
     "output_type": "stream",
     "text": [
      "0.3%"
     ]
    },
    {
     "name": "stdout",
     "output_type": "stream",
     "text": [
      "Downloading http://yann.lecun.com/exdb/mnist/train-images-idx3-ubyte.gz to ./data\\MNIST\\raw\\train-images-idx3-ubyte.gz\n"
     ]
    },
    {
     "name": "stderr",
     "output_type": "stream",
     "text": [
      "100.0%\n"
     ]
    },
    {
     "name": "stdout",
     "output_type": "stream",
     "text": [
      "Extracting ./data\\MNIST\\raw\\train-images-idx3-ubyte.gz to ./data\\MNIST\\raw\n",
      "\n",
      "Downloading http://yann.lecun.com/exdb/mnist/train-labels-idx1-ubyte.gz\n"
     ]
    },
    {
     "name": "stderr",
     "output_type": "stream",
     "text": [
      "100.0%"
     ]
    },
    {
     "name": "stdout",
     "output_type": "stream",
     "text": [
      "Downloading http://yann.lecun.com/exdb/mnist/train-labels-idx1-ubyte.gz to ./data\\MNIST\\raw\\train-labels-idx1-ubyte.gz\n",
      "Extracting ./data\\MNIST\\raw\\train-labels-idx1-ubyte.gz to ./data\\MNIST\\raw\n",
      "\n",
      "Downloading http://yann.lecun.com/exdb/mnist/t10k-images-idx3-ubyte.gz\n"
     ]
    },
    {
     "name": "stderr",
     "output_type": "stream",
     "text": [
      "\n",
      "2.0%"
     ]
    },
    {
     "name": "stdout",
     "output_type": "stream",
     "text": [
      "Downloading http://yann.lecun.com/exdb/mnist/t10k-images-idx3-ubyte.gz to ./data\\MNIST\\raw\\t10k-images-idx3-ubyte.gz\n"
     ]
    },
    {
     "name": "stderr",
     "output_type": "stream",
     "text": [
      "100.0%\n"
     ]
    },
    {
     "name": "stdout",
     "output_type": "stream",
     "text": [
      "Extracting ./data\\MNIST\\raw\\t10k-images-idx3-ubyte.gz to ./data\\MNIST\\raw\n",
      "\n",
      "Downloading http://yann.lecun.com/exdb/mnist/t10k-labels-idx1-ubyte.gz\n"
     ]
    },
    {
     "name": "stderr",
     "output_type": "stream",
     "text": [
      "100.0%"
     ]
    },
    {
     "name": "stdout",
     "output_type": "stream",
     "text": [
      "Downloading http://yann.lecun.com/exdb/mnist/t10k-labels-idx1-ubyte.gz to ./data\\MNIST\\raw\\t10k-labels-idx1-ubyte.gz\n",
      "Extracting ./data\\MNIST\\raw\\t10k-labels-idx1-ubyte.gz to ./data\\MNIST\\raw\n",
      "\n"
     ]
    },
    {
     "name": "stderr",
     "output_type": "stream",
     "text": [
      "\n"
     ]
    }
   ],
   "source": [
    "# Load the MNIST dataset and apply transformations\n",
    "train_dataset = datasets.MNIST(root=\"./data\", train=True, transform=transforms.ToTensor(), download=True)\n",
    "test_dataset = datasets.MNIST(root=\"./data\", train=False, transform=transforms.ToTensor())\n"
   ],
   "metadata": {
    "collapsed": false,
    "ExecuteTime": {
     "end_time": "2023-05-30T13:47:24.583894900Z",
     "start_time": "2023-05-30T13:46:58.494554900Z"
    }
   }
  },
  {
   "cell_type": "code",
   "execution_count": 8,
   "outputs": [],
   "source": [
    "# Create data loaders\n",
    "train_loader = torch.utils.data.DataLoader(dataset=train_dataset, batch_size=batch_size, shuffle=True)\n",
    "test_loader = torch.utils.data.DataLoader(dataset=test_dataset, batch_size=batch_size, shuffle=False)\n"
   ],
   "metadata": {
    "collapsed": false,
    "ExecuteTime": {
     "end_time": "2023-05-30T13:47:26.914832900Z",
     "start_time": "2023-05-30T13:47:26.889833100Z"
    }
   }
  },
  {
   "cell_type": "code",
   "execution_count": 9,
   "outputs": [],
   "source": [
    "# Create an instance of the neural network\n",
    "model = Net().to(device)"
   ],
   "metadata": {
    "collapsed": false,
    "ExecuteTime": {
     "end_time": "2023-05-30T13:47:33.718554600Z",
     "start_time": "2023-05-30T13:47:33.597773500Z"
    }
   }
  },
  {
   "cell_type": "code",
   "execution_count": 10,
   "outputs": [],
   "source": [
    "# Define the loss function and optimizer\n",
    "criterion = nn.CrossEntropyLoss()\n",
    "optimizer = optim.SGD(model.parameters(), lr=learning_rate)"
   ],
   "metadata": {
    "collapsed": false,
    "ExecuteTime": {
     "end_time": "2023-05-30T13:47:40.700092800Z",
     "start_time": "2023-05-30T13:47:40.686092400Z"
    }
   }
  },
  {
   "cell_type": "code",
   "execution_count": 12,
   "outputs": [
    {
     "name": "stdout",
     "output_type": "stream",
     "text": [
      "Epoch [1/10], Step [100/938], Loss: 0.2151\n",
      "Epoch [1/10], Step [200/938], Loss: 0.2890\n",
      "Epoch [1/10], Step [300/938], Loss: 0.1842\n",
      "Epoch [1/10], Step [400/938], Loss: 0.2794\n",
      "Epoch [1/10], Step [500/938], Loss: 0.3299\n",
      "Epoch [1/10], Step [600/938], Loss: 0.3270\n",
      "Epoch [1/10], Step [700/938], Loss: 0.1805\n",
      "Epoch [1/10], Step [800/938], Loss: 0.1032\n",
      "Epoch [1/10], Step [900/938], Loss: 0.2792\n",
      "Epoch [1/10], Loss: 0.2145, Train Accuracy: 93.96%\n",
      "Epoch [2/10], Step [100/938], Loss: 0.3656\n",
      "Epoch [2/10], Step [200/938], Loss: 0.1561\n",
      "Epoch [2/10], Step [300/938], Loss: 0.2719\n",
      "Epoch [2/10], Step [400/938], Loss: 0.2420\n",
      "Epoch [2/10], Step [500/938], Loss: 0.1550\n",
      "Epoch [2/10], Step [600/938], Loss: 0.2614\n",
      "Epoch [2/10], Step [700/938], Loss: 0.2427\n",
      "Epoch [2/10], Step [800/938], Loss: 0.1307\n",
      "Epoch [2/10], Step [900/938], Loss: 0.3020\n",
      "Epoch [2/10], Loss: 0.2020, Train Accuracy: 94.27%\n",
      "Epoch [3/10], Step [100/938], Loss: 0.1894\n",
      "Epoch [3/10], Step [200/938], Loss: 0.3349\n",
      "Epoch [3/10], Step [300/938], Loss: 0.0678\n",
      "Epoch [3/10], Step [400/938], Loss: 0.2561\n",
      "Epoch [3/10], Step [500/938], Loss: 0.1916\n",
      "Epoch [3/10], Step [600/938], Loss: 0.2645\n",
      "Epoch [3/10], Step [700/938], Loss: 0.1934\n",
      "Epoch [3/10], Step [800/938], Loss: 0.2833\n",
      "Epoch [3/10], Step [900/938], Loss: 0.3592\n",
      "Epoch [3/10], Loss: 0.1904, Train Accuracy: 94.65%\n",
      "Epoch [4/10], Step [100/938], Loss: 0.2202\n",
      "Epoch [4/10], Step [200/938], Loss: 0.2418\n",
      "Epoch [4/10], Step [300/938], Loss: 0.2196\n",
      "Epoch [4/10], Step [400/938], Loss: 0.1557\n",
      "Epoch [4/10], Step [500/938], Loss: 0.3249\n",
      "Epoch [4/10], Step [600/938], Loss: 0.1262\n",
      "Epoch [4/10], Step [700/938], Loss: 0.1039\n",
      "Epoch [4/10], Step [800/938], Loss: 0.3008\n",
      "Epoch [4/10], Step [900/938], Loss: 0.1310\n",
      "Epoch [4/10], Loss: 0.1803, Train Accuracy: 94.91%\n",
      "Epoch [5/10], Step [100/938], Loss: 0.1555\n",
      "Epoch [5/10], Step [200/938], Loss: 0.3088\n",
      "Epoch [5/10], Step [300/938], Loss: 0.1613\n",
      "Epoch [5/10], Step [400/938], Loss: 0.1549\n",
      "Epoch [5/10], Step [500/938], Loss: 0.3263\n",
      "Epoch [5/10], Step [600/938], Loss: 0.3181\n",
      "Epoch [5/10], Step [700/938], Loss: 0.2196\n",
      "Epoch [5/10], Step [800/938], Loss: 0.0991\n",
      "Epoch [5/10], Step [900/938], Loss: 0.1865\n",
      "Epoch [5/10], Loss: 0.1709, Train Accuracy: 95.16%\n",
      "Epoch [6/10], Step [100/938], Loss: 0.1440\n",
      "Epoch [6/10], Step [200/938], Loss: 0.0685\n",
      "Epoch [6/10], Step [300/938], Loss: 0.2700\n",
      "Epoch [6/10], Step [400/938], Loss: 0.3637\n",
      "Epoch [6/10], Step [500/938], Loss: 0.1020\n",
      "Epoch [6/10], Step [600/938], Loss: 0.2359\n",
      "Epoch [6/10], Step [700/938], Loss: 0.2205\n",
      "Epoch [6/10], Step [800/938], Loss: 0.1153\n",
      "Epoch [6/10], Step [900/938], Loss: 0.3295\n",
      "Epoch [6/10], Loss: 0.1626, Train Accuracy: 95.40%\n",
      "Epoch [7/10], Step [100/938], Loss: 0.3730\n",
      "Epoch [7/10], Step [200/938], Loss: 0.3270\n",
      "Epoch [7/10], Step [300/938], Loss: 0.0611\n",
      "Epoch [7/10], Step [400/938], Loss: 0.0858\n",
      "Epoch [7/10], Step [500/938], Loss: 0.0956\n",
      "Epoch [7/10], Step [600/938], Loss: 0.1245\n",
      "Epoch [7/10], Step [700/938], Loss: 0.0873\n",
      "Epoch [7/10], Step [800/938], Loss: 0.0824\n",
      "Epoch [7/10], Step [900/938], Loss: 0.0795\n",
      "Epoch [7/10], Loss: 0.1546, Train Accuracy: 95.60%\n",
      "Epoch [8/10], Step [100/938], Loss: 0.0866\n",
      "Epoch [8/10], Step [200/938], Loss: 0.1366\n",
      "Epoch [8/10], Step [300/938], Loss: 0.1034\n",
      "Epoch [8/10], Step [400/938], Loss: 0.1411\n",
      "Epoch [8/10], Step [500/938], Loss: 0.1127\n",
      "Epoch [8/10], Step [600/938], Loss: 0.1501\n",
      "Epoch [8/10], Step [700/938], Loss: 0.1068\n",
      "Epoch [8/10], Step [800/938], Loss: 0.1301\n",
      "Epoch [8/10], Step [900/938], Loss: 0.1086\n",
      "Epoch [8/10], Loss: 0.1476, Train Accuracy: 95.81%\n",
      "Epoch [9/10], Step [100/938], Loss: 0.0985\n",
      "Epoch [9/10], Step [200/938], Loss: 0.1537\n",
      "Epoch [9/10], Step [300/938], Loss: 0.2026\n",
      "Epoch [9/10], Step [400/938], Loss: 0.3450\n",
      "Epoch [9/10], Step [500/938], Loss: 0.0680\n",
      "Epoch [9/10], Step [600/938], Loss: 0.1845\n",
      "Epoch [9/10], Step [700/938], Loss: 0.1062\n",
      "Epoch [9/10], Step [800/938], Loss: 0.0703\n",
      "Epoch [9/10], Step [900/938], Loss: 0.0852\n",
      "Epoch [9/10], Loss: 0.1406, Train Accuracy: 96.05%\n",
      "Epoch [10/10], Step [100/938], Loss: 0.1171\n",
      "Epoch [10/10], Step [200/938], Loss: 0.1006\n",
      "Epoch [10/10], Step [300/938], Loss: 0.1086\n",
      "Epoch [10/10], Step [400/938], Loss: 0.0899\n",
      "Epoch [10/10], Step [500/938], Loss: 0.0796\n",
      "Epoch [10/10], Step [600/938], Loss: 0.1504\n",
      "Epoch [10/10], Step [700/938], Loss: 0.1006\n",
      "Epoch [10/10], Step [800/938], Loss: 0.0641\n",
      "Epoch [10/10], Step [900/938], Loss: 0.2055\n",
      "Epoch [10/10], Loss: 0.1345, Train Accuracy: 96.23%\n"
     ]
    }
   ],
   "source": [
    "# Training loop\n",
    "for epoch in range(epochs):\n",
    "    epoch_loss = 0.0\n",
    "    correct = 0\n",
    "    total = 0\n",
    "\n",
    "    for batch_idx, (images, labels) in enumerate(train_loader):\n",
    "        images = images.to(device)\n",
    "        labels = labels.to(device)\n",
    "\n",
    "        # Flatten the input images\n",
    "        images = images.view(-1, 784)\n",
    "\n",
    "        # Forward pass\n",
    "        outputs = model(images)\n",
    "        loss = criterion(outputs, labels)\n",
    "\n",
    "        # Backward pass and optimization\n",
    "        optimizer.zero_grad()\n",
    "        loss.backward()\n",
    "        optimizer.step()\n",
    "\n",
    "        epoch_loss += loss.item()\n",
    "\n",
    "        # Track the accuracy\n",
    "        _, predicted = torch.max(outputs.data, 1)\n",
    "        total += labels.size(0)\n",
    "        correct += (predicted == labels).sum().item()\n",
    "\n",
    "        if (batch_idx + 1) % 100 == 0:\n",
    "            print(f\"Epoch [{epoch+1}/{epochs}], Step [{batch_idx+1}/{len(train_loader)}], Loss: {loss.item():.4f}\")\n",
    "\n",
    "    # Print the epoch statistics\n",
    "    epoch_loss /= len(train_loader)\n",
    "    accuracy = 100 * correct / total\n",
    "    print(f\"Epoch [{epoch+1}/{epochs}], Loss: {epoch_loss:.4f}, Train Accuracy: {accuracy:.2f}%\")\n"
   ],
   "metadata": {
    "collapsed": false,
    "ExecuteTime": {
     "end_time": "2023-05-30T13:49:36.498794Z",
     "start_time": "2023-05-30T13:48:56.341030800Z"
    }
   }
  },
  {
   "cell_type": "code",
   "execution_count": null,
   "outputs": [],
   "source": [],
   "metadata": {
    "collapsed": false
   }
  }
 ],
 "metadata": {
  "kernelspec": {
   "display_name": "Python 3",
   "language": "python",
   "name": "python3"
  },
  "language_info": {
   "codemirror_mode": {
    "name": "ipython",
    "version": 2
   },
   "file_extension": ".py",
   "mimetype": "text/x-python",
   "name": "python",
   "nbconvert_exporter": "python",
   "pygments_lexer": "ipython2",
   "version": "2.7.6"
  }
 },
 "nbformat": 4,
 "nbformat_minor": 0
}
