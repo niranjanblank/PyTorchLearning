{
 "cells": [
  {
   "cell_type": "markdown",
   "source": [
    "## PyTorch Workflow\n",
    "1. Data(Prepare and load)\n",
    "2. Build Model\n",
    "3. Fitting the model to data (Training)\n",
    "4. Making predictions and evaluating a model\n",
    "5. Saving and loading a model"
   ],
   "metadata": {
    "collapsed": false
   }
  },
  {
   "cell_type": "code",
   "execution_count": 4,
   "outputs": [],
   "source": [
    "import torch\n",
    "from torch import nn\n",
    "import matplotlib.pyplot as plt"
   ],
   "metadata": {
    "collapsed": false,
    "ExecuteTime": {
     "end_time": "2023-06-03T11:42:10.598471500Z",
     "start_time": "2023-06-03T11:42:10.308568400Z"
    }
   }
  },
  {
   "cell_type": "code",
   "execution_count": 5,
   "outputs": [],
   "source": [
    "device = 'cuda' if torch.cuda.is_available() else \"cpu\""
   ],
   "metadata": {
    "collapsed": false,
    "ExecuteTime": {
     "end_time": "2023-06-03T11:43:15.653073200Z",
     "start_time": "2023-06-03T11:43:15.651072800Z"
    }
   }
  },
  {
   "cell_type": "markdown",
   "source": [
    "## 1. Data (Preparing and loading)\n",
    "Machine Learning is a game of two parts:\n",
    "1. Get data into a numerical representation\n",
    "2. Build a model to learn patterns in that numerical representation"
   ],
   "metadata": {
    "collapsed": false
   }
  },
  {
   "cell_type": "code",
   "execution_count": 9,
   "outputs": [],
   "source": [
    "weight = 0.7\n",
    "bias = 0.3\n",
    "\n",
    "start = 0\n",
    "end = 1\n",
    "step = 0.02\n",
    "\n",
    "X = torch.arange(start, end, step).unsqueeze(dim=1)\n",
    "y = weight * X + bias"
   ],
   "metadata": {
    "collapsed": false,
    "ExecuteTime": {
     "end_time": "2023-06-03T11:49:16.832903300Z",
     "start_time": "2023-06-03T11:49:16.819818800Z"
    }
   }
  },
  {
   "cell_type": "code",
   "execution_count": 10,
   "outputs": [
    {
     "data": {
      "text/plain": "(tensor([[0.0000],\n         [0.0200],\n         [0.0400],\n         [0.0600],\n         [0.0800],\n         [0.1000],\n         [0.1200],\n         [0.1400],\n         [0.1600],\n         [0.1800]]),\n tensor([[0.3000],\n         [0.3140],\n         [0.3280],\n         [0.3420],\n         [0.3560],\n         [0.3700],\n         [0.3840],\n         [0.3980],\n         [0.4120],\n         [0.4260]]))"
     },
     "execution_count": 10,
     "metadata": {},
     "output_type": "execute_result"
    }
   ],
   "source": [
    "X[:10], y[:10]"
   ],
   "metadata": {
    "collapsed": false,
    "ExecuteTime": {
     "end_time": "2023-06-03T11:49:27.114352400Z",
     "start_time": "2023-06-03T11:49:27.092963500Z"
    }
   }
  },
  {
   "cell_type": "markdown",
   "source": [
    "## Splitting data into training and test sets"
   ],
   "metadata": {
    "collapsed": false
   }
  },
  {
   "cell_type": "code",
   "execution_count": 19,
   "outputs": [],
   "source": [
    "train_split = int(0.8 * len(X))\n",
    "X_train , y_train = X[:train_split], y[:train_split]\n",
    "X_test, y_test = X[train_split:], y[train_split:]"
   ],
   "metadata": {
    "collapsed": false,
    "ExecuteTime": {
     "end_time": "2023-06-03T12:05:45.778119200Z",
     "start_time": "2023-06-03T12:05:45.765692900Z"
    }
   }
  },
  {
   "cell_type": "markdown",
   "source": [
    "## Visualize the data"
   ],
   "metadata": {
    "collapsed": false
   }
  },
  {
   "cell_type": "code",
   "execution_count": 45,
   "outputs": [],
   "source": [
    "def plot_predictions(train_data=X_train,\n",
    "                     train_labels = y_train,\n",
    "                     test_data = X_test,\n",
    "                     test_labels = y_test,\n",
    "                     predictions = None\n",
    "                     ):\n",
    "    plt.figure(figsize=(10,7))\n",
    "    #plot train data\n",
    "    plt.scatter(train_data, train_labels, c='r', s=5, label=\"Training data\")\n",
    "\n",
    "    #plot test data\n",
    "    plt.scatter(test_data, test_labels, c='g', s=5, label=\"Testing data\")\n",
    "    if predictions is not None:\n",
    "        plt.scatter(test_data, predictions, c='orange', s=5, label=\"Predicted data\")\n",
    "\n",
    "    # legends\n",
    "    plt.legend(prop={\"size\":14})"
   ],
   "metadata": {
    "collapsed": false,
    "ExecuteTime": {
     "end_time": "2023-06-03T13:27:31.980515900Z",
     "start_time": "2023-06-03T13:27:31.978511Z"
    }
   }
  },
  {
   "cell_type": "code",
   "execution_count": 46,
   "outputs": [
    {
     "data": {
      "text/plain": "<Figure size 1000x700 with 1 Axes>",
      "image/png": "[encoded data removed]"
     },
     "metadata": {},
     "output_type": "display_data"
    }
   ],
   "source": [
    "plot_predictions()"
   ],
   "metadata": {
    "collapsed": false,
    "ExecuteTime": {
     "end_time": "2023-06-03T13:27:32.793560100Z",
     "start_time": "2023-06-03T13:27:32.684184800Z"
    }
   }
  },
  {
   "cell_type": "markdown",
   "source": [
    "## Creating Linear Model"
   ],
   "metadata": {
    "collapsed": false
   }
  },
  {
   "cell_type": "code",
   "execution_count": 33,
   "outputs": [],
   "source": [
    "class LinearRegressionModel(nn.Module):\n",
    "\n",
    "    def __init__(self):\n",
    "        super().__init__()\n",
    "        self.weights = nn.Parameter(torch.randn(1,\n",
    "                                                requires_grad = True,\n",
    "                                                dtype = torch.float32\n",
    "                                                ))\n",
    "        self.bias = nn.Parameter(torch.randn(1,\n",
    "                                             requires_grad=True,\n",
    "                                             dtype= torch.float32))\n",
    "\n",
    "    # method to define computation in the model\n",
    "    def forward(self, x: torch.Tensor) -> torch.Tensor:\n",
    "        return self.weights * x + self.bias\n"
   ],
   "metadata": {
    "collapsed": false,
    "ExecuteTime": {
     "end_time": "2023-06-03T12:27:35.390188600Z",
     "start_time": "2023-06-03T12:27:35.377113200Z"
    }
   }
  },
  {
   "cell_type": "code",
   "execution_count": 34,
   "outputs": [],
   "source": [],
   "metadata": {
    "collapsed": false,
    "ExecuteTime": {
     "end_time": "2023-06-03T13:07:00.902168400Z",
     "start_time": "2023-06-03T13:07:00.899148100Z"
    }
   }
  },
  {
   "cell_type": "markdown",
   "source": [
    "### PyTorch model building essentials\n",
    "* `torch.nn` - contains all of the buildins for computational graphs\n",
    "* `torch.nn.Parameters` - what parameters should our model try and learn, often a PyTorch layer from torch.nn will set these for us\n",
    "* `torch.nn.Module` - base class for all neural network modules, if you subclass it, you should overwrite forward()\n",
    "* `torch.optim` - this is where the optimizers in PyTorch live, they will help with gradient descent"
   ],
   "metadata": {
    "collapsed": false
   }
  },
  {
   "cell_type": "code",
   "execution_count": 35,
   "outputs": [],
   "source": [
    "# create a random see\n",
    "torch.manual_seed(42)\n",
    "\n",
    "# create instance of model\n",
    "\n",
    "model_0 = LinearRegressionModel()"
   ],
   "metadata": {
    "collapsed": false,
    "ExecuteTime": {
     "end_time": "2023-06-03T13:20:46.658414Z",
     "start_time": "2023-06-03T13:20:46.649404800Z"
    }
   }
  },
  {
   "cell_type": "code",
   "execution_count": 39,
   "outputs": [
    {
     "data": {
      "text/plain": "[Parameter containing:\n tensor([0.3367], requires_grad=True),\n Parameter containing:\n tensor([0.1288], requires_grad=True)]"
     },
     "execution_count": 39,
     "metadata": {},
     "output_type": "execute_result"
    }
   ],
   "source": [
    "list(model_0.parameters())"
   ],
   "metadata": {
    "collapsed": false,
    "ExecuteTime": {
     "end_time": "2023-06-03T13:21:24.301800300Z",
     "start_time": "2023-06-03T13:21:24.289052600Z"
    }
   }
  },
  {
   "cell_type": "code",
   "execution_count": 40,
   "outputs": [
    {
     "data": {
      "text/plain": "OrderedDict([('weights', tensor([0.3367])), ('bias', tensor([0.1288]))])"
     },
     "execution_count": 40,
     "metadata": {},
     "output_type": "execute_result"
    }
   ],
   "source": [
    "model_0.state_dict()"
   ],
   "metadata": {
    "collapsed": false,
    "ExecuteTime": {
     "end_time": "2023-06-03T13:23:15.833413900Z",
     "start_time": "2023-06-03T13:23:15.818405600Z"
    }
   }
  },
  {
   "cell_type": "markdown",
   "source": [
    "## Making Prediction with our model"
   ],
   "metadata": {
    "collapsed": false
   }
  },
  {
   "cell_type": "code",
   "execution_count": 48,
   "outputs": [],
   "source": [
    "# inference mode stops keeping track of gradient\n",
    "with torch.inference_mode():\n",
    "    y_preds = model_0(X_test)"
   ],
   "metadata": {
    "collapsed": false,
    "ExecuteTime": {
     "end_time": "2023-06-03T13:29:40.293717800Z",
     "start_time": "2023-06-03T13:29:40.280712600Z"
    }
   }
  },
  {
   "cell_type": "code",
   "execution_count": 49,
   "outputs": [
    {
     "data": {
      "text/plain": "tensor([[0.3982],\n        [0.4049],\n        [0.4116],\n        [0.4184],\n        [0.4251],\n        [0.4318],\n        [0.4386],\n        [0.4453],\n        [0.4520],\n        [0.4588]])"
     },
     "execution_count": 49,
     "metadata": {},
     "output_type": "execute_result"
    }
   ],
   "source": [
    "y_preds"
   ],
   "metadata": {
    "collapsed": false,
    "ExecuteTime": {
     "end_time": "2023-06-03T13:29:40.685246500Z",
     "start_time": "2023-06-03T13:29:40.674173300Z"
    }
   }
  },
  {
   "cell_type": "code",
   "execution_count": 50,
   "outputs": [
    {
     "data": {
      "text/plain": "<Figure size 1000x700 with 1 Axes>",
      "image/png": "[encoded data removed]"
     },
     "metadata": {},
     "output_type": "display_data"
    }
   ],
   "source": [
    "plot_predictions(predictions=y_preds)"
   ],
   "metadata": {
    "collapsed": false,
    "ExecuteTime": {
     "end_time": "2023-06-03T13:29:41.543263800Z",
     "start_time": "2023-06-03T13:29:41.413205100Z"
    }
   }
  },
  {
   "cell_type": "markdown",
   "source": [
    " ### Training the model\n",
    "For pytorch, we need\n",
    "1. Training Loop\n",
    "2. Testing Loop"
   ],
   "metadata": {
    "collapsed": false
   }
  },
  {
   "cell_type": "code",
   "execution_count": 54,
   "outputs": [],
   "source": [
    "# setting a loss function\n",
    "loss_fn = nn.L1Loss()\n",
    "\n",
    "#setting an optimizer\n",
    "optimizer = torch.optim.SGD(params = model_0.parameters(),\n",
    "                            lr = 0.01\n",
    "                            )"
   ],
   "metadata": {
    "collapsed": false,
    "ExecuteTime": {
     "end_time": "2023-06-03T14:09:18.872817200Z",
     "start_time": "2023-06-03T14:09:18.857439Z"
    }
   }
  },
  {
   "cell_type": "markdown",
   "source": [
    "### Building a training loop and testing loop in PyTorch\n",
    "1. Loop through the data\n",
    "2. Forward pass\n",
    "3. Calculate the loss\n",
    "4. Optimizer zero grad\n",
    "5. Loss backward - move backwards through the network to calculate the gradients of each of the parameters of our model with respect to the loss (back propagation)\n",
    "6. Optimizer step - use the optimizer to adjust our model's parameters to try and improve the loss (gradient descent)"
   ],
   "metadata": {
    "collapsed": false
   }
  },
  {
   "cell_type": "code",
   "execution_count": 70,
   "outputs": [
    {
     "name": "stdout",
     "output_type": "stream",
     "text": [
      "Loss: 0.008932482451200485\n",
      "Loss: 0.0025885067880153656\n",
      "Loss: 0.008932482451200485\n",
      "Loss: 0.0025885067880153656\n",
      "Loss: 0.008932482451200485\n",
      "Loss: 0.0025885067880153656\n",
      "Loss: 0.008932482451200485\n",
      "Loss: 0.0025885067880153656\n",
      "Loss: 0.008932482451200485\n",
      "Loss: 0.0025885067880153656\n",
      "Loss: 0.008932482451200485\n",
      "Loss: 0.0025885067880153656\n",
      "Loss: 0.008932482451200485\n",
      "Loss: 0.0025885067880153656\n",
      "Loss: 0.008932482451200485\n",
      "Loss: 0.0025885067880153656\n",
      "Loss: 0.008932482451200485\n",
      "Loss: 0.0025885067880153656\n",
      "Loss: 0.008932482451200485\n",
      "Loss: 0.0025885067880153656\n",
      "Loss: 0.008932482451200485\n",
      "Loss: 0.0025885067880153656\n",
      "Loss: 0.008932482451200485\n",
      "Loss: 0.0025885067880153656\n",
      "Loss: 0.008932482451200485\n",
      "Loss: 0.0025885067880153656\n",
      "Loss: 0.008932482451200485\n",
      "Loss: 0.0025885067880153656\n",
      "Loss: 0.008932482451200485\n",
      "Loss: 0.0025885067880153656\n",
      "Loss: 0.008932482451200485\n",
      "Loss: 0.0025885067880153656\n",
      "Loss: 0.008932482451200485\n",
      "Loss: 0.0025885067880153656\n",
      "Loss: 0.008932482451200485\n",
      "Loss: 0.0025885067880153656\n",
      "Loss: 0.008932482451200485\n",
      "Loss: 0.0025885067880153656\n",
      "Loss: 0.008932482451200485\n",
      "Loss: 0.0025885067880153656\n",
      "Loss: 0.008932482451200485\n",
      "Loss: 0.0025885067880153656\n",
      "Loss: 0.008932482451200485\n",
      "Loss: 0.0025885067880153656\n",
      "Loss: 0.008932482451200485\n",
      "Loss: 0.0025885067880153656\n",
      "Loss: 0.008932482451200485\n",
      "Loss: 0.0025885067880153656\n",
      "Loss: 0.008932482451200485\n",
      "Loss: 0.0025885067880153656\n",
      "Loss: 0.008932482451200485\n",
      "Loss: 0.0025885067880153656\n",
      "Loss: 0.008932482451200485\n",
      "Loss: 0.0025885067880153656\n",
      "Loss: 0.008932482451200485\n",
      "Loss: 0.0025885067880153656\n",
      "Loss: 0.008932482451200485\n",
      "Loss: 0.0025885067880153656\n",
      "Loss: 0.008932482451200485\n",
      "Loss: 0.0025885067880153656\n",
      "Loss: 0.008932482451200485\n",
      "Loss: 0.0025885067880153656\n",
      "Loss: 0.008932482451200485\n",
      "Loss: 0.0025885067880153656\n",
      "Loss: 0.008932482451200485\n",
      "Loss: 0.0025885067880153656\n",
      "Loss: 0.008932482451200485\n",
      "Loss: 0.0025885067880153656\n",
      "Loss: 0.008932482451200485\n",
      "Loss: 0.0025885067880153656\n",
      "Loss: 0.008932482451200485\n",
      "Loss: 0.0025885067880153656\n",
      "Loss: 0.008932482451200485\n",
      "Loss: 0.0025885067880153656\n",
      "Loss: 0.008932482451200485\n",
      "Loss: 0.0025885067880153656\n",
      "Loss: 0.008932482451200485\n",
      "Loss: 0.0025885067880153656\n",
      "Loss: 0.008932482451200485\n",
      "Loss: 0.0025885067880153656\n",
      "Loss: 0.008932482451200485\n",
      "Loss: 0.0025885067880153656\n",
      "Loss: 0.008932482451200485\n",
      "Loss: 0.0025885067880153656\n",
      "Loss: 0.008932482451200485\n",
      "Loss: 0.0025885067880153656\n",
      "Loss: 0.008932482451200485\n",
      "Loss: 0.0025885067880153656\n",
      "Loss: 0.008932482451200485\n",
      "Loss: 0.0025885067880153656\n",
      "Loss: 0.008932482451200485\n",
      "Loss: 0.0025885067880153656\n",
      "Loss: 0.008932482451200485\n",
      "Loss: 0.0025885067880153656\n",
      "Loss: 0.008932482451200485\n",
      "Loss: 0.0025885067880153656\n",
      "Loss: 0.008932482451200485\n",
      "Loss: 0.0025885067880153656\n",
      "Loss: 0.008932482451200485\n",
      "Loss: 0.0025885067880153656\n",
      "Loss: 0.008932482451200485\n",
      "Loss: 0.0025885067880153656\n",
      "Loss: 0.008932482451200485\n",
      "Loss: 0.0025885067880153656\n",
      "Loss: 0.008932482451200485\n",
      "Loss: 0.0025885067880153656\n",
      "Loss: 0.008932482451200485\n",
      "Loss: 0.0025885067880153656\n",
      "Loss: 0.008932482451200485\n",
      "Loss: 0.0025885067880153656\n",
      "Loss: 0.008932482451200485\n",
      "Loss: 0.0025885067880153656\n",
      "Loss: 0.008932482451200485\n",
      "Loss: 0.0025885067880153656\n",
      "Loss: 0.008932482451200485\n",
      "Loss: 0.0025885067880153656\n",
      "Loss: 0.008932482451200485\n",
      "Loss: 0.0025885067880153656\n",
      "Loss: 0.008932482451200485\n",
      "Loss: 0.0025885067880153656\n",
      "Loss: 0.008932482451200485\n",
      "Loss: 0.0025885067880153656\n",
      "Loss: 0.008932482451200485\n",
      "Loss: 0.0025885067880153656\n",
      "Loss: 0.008932482451200485\n",
      "Loss: 0.0025885067880153656\n",
      "Loss: 0.008932482451200485\n",
      "Loss: 0.0025885067880153656\n",
      "Loss: 0.008932482451200485\n",
      "Loss: 0.0025885067880153656\n",
      "Loss: 0.008932482451200485\n",
      "Loss: 0.0025885067880153656\n",
      "Loss: 0.008932482451200485\n",
      "Loss: 0.0025885067880153656\n",
      "Loss: 0.008932482451200485\n",
      "Loss: 0.0025885067880153656\n",
      "Loss: 0.008932482451200485\n",
      "Loss: 0.0025885067880153656\n",
      "Loss: 0.008932482451200485\n",
      "Loss: 0.0025885067880153656\n",
      "Loss: 0.008932482451200485\n",
      "Loss: 0.0025885067880153656\n",
      "Loss: 0.008932482451200485\n",
      "Loss: 0.0025885067880153656\n",
      "Loss: 0.008932482451200485\n",
      "Loss: 0.0025885067880153656\n",
      "Loss: 0.008932482451200485\n",
      "Loss: 0.0025885067880153656\n",
      "Loss: 0.008932482451200485\n",
      "Loss: 0.0025885067880153656\n",
      "Loss: 0.008932482451200485\n",
      "Loss: 0.0025885067880153656\n",
      "Loss: 0.008932482451200485\n",
      "Loss: 0.0025885067880153656\n",
      "Loss: 0.008932482451200485\n",
      "Loss: 0.0025885067880153656\n",
      "Loss: 0.008932482451200485\n",
      "Loss: 0.0025885067880153656\n",
      "Loss: 0.008932482451200485\n",
      "Loss: 0.0025885067880153656\n",
      "Loss: 0.008932482451200485\n",
      "Loss: 0.0025885067880153656\n",
      "Loss: 0.008932482451200485\n",
      "Loss: 0.0025885067880153656\n",
      "Loss: 0.008932482451200485\n",
      "Loss: 0.0025885067880153656\n",
      "Loss: 0.008932482451200485\n",
      "Loss: 0.0025885067880153656\n",
      "Loss: 0.008932482451200485\n",
      "Loss: 0.0025885067880153656\n",
      "Loss: 0.008932482451200485\n",
      "Loss: 0.0025885067880153656\n",
      "Loss: 0.008932482451200485\n",
      "Loss: 0.0025885067880153656\n",
      "Loss: 0.008932482451200485\n",
      "Loss: 0.0025885067880153656\n",
      "Loss: 0.008932482451200485\n",
      "Loss: 0.0025885067880153656\n",
      "Loss: 0.008932482451200485\n",
      "Loss: 0.0025885067880153656\n",
      "Loss: 0.008932482451200485\n",
      "Loss: 0.0025885067880153656\n",
      "Loss: 0.008932482451200485\n",
      "Loss: 0.0025885067880153656\n",
      "Loss: 0.008932482451200485\n",
      "Loss: 0.0025885067880153656\n",
      "Loss: 0.008932482451200485\n",
      "Loss: 0.0025885067880153656\n",
      "Loss: 0.008932482451200485\n",
      "Loss: 0.0025885067880153656\n",
      "Loss: 0.008932482451200485\n",
      "Loss: 0.0025885067880153656\n",
      "Loss: 0.008932482451200485\n",
      "Loss: 0.0025885067880153656\n",
      "Loss: 0.008932482451200485\n",
      "Loss: 0.0025885067880153656\n",
      "Loss: 0.008932482451200485\n",
      "Loss: 0.0025885067880153656\n",
      "Loss: 0.008932482451200485\n",
      "Loss: 0.0025885067880153656\n"
     ]
    }
   ],
   "source": [
    "epochs = 200\n",
    "\n",
    "# loop through the data\n",
    "for epoch in range(epochs):\n",
    "    # set the model to training mode\n",
    "    model_0.train() # train mode in PyTorch sets all parametes that requires gradient to require gradients\n",
    "\n",
    "    # forward pass\n",
    "    y_pred = model_0(X_train)\n",
    "\n",
    "    # calculate loss\n",
    "    loss = loss_fn(y_pred, y_train)\n",
    "    print(f\"Loss: {loss}\")\n",
    "\n",
    "    # optimizer zero grad\n",
    "    optimizer.zero_grad()\n",
    "\n",
    "    # loss backward (back propagation)\n",
    "    loss.backward()\n",
    "\n",
    "    # step the optimizer (perform gradient descent)\n",
    "    optimizer.step() # by default how the optimizer changes will accumulate through the loop. so we have to zero them in grad_zero() for the next interation of loop\n",
    "\n",
    "\n",
    "    model_0.eval() # turns off gradient tracking\n"
   ],
   "metadata": {
    "collapsed": false,
    "ExecuteTime": {
     "end_time": "2023-06-03T14:14:21.127384600Z",
     "start_time": "2023-06-03T14:14:21.095130100Z"
    }
   }
  },
  {
   "cell_type": "code",
   "execution_count": 71,
   "outputs": [
    {
     "data": {
      "text/plain": "OrderedDict([('weights', tensor([0.6990])), ('bias', tensor([0.3093]))])"
     },
     "execution_count": 71,
     "metadata": {},
     "output_type": "execute_result"
    }
   ],
   "source": [
    "model_0.state_dict()"
   ],
   "metadata": {
    "collapsed": false,
    "ExecuteTime": {
     "end_time": "2023-06-03T14:14:21.926315700Z",
     "start_time": "2023-06-03T14:14:21.921722100Z"
    }
   }
  },
  {
   "cell_type": "code",
   "execution_count": 72,
   "outputs": [],
   "source": [
    "with torch.inference_mode():\n",
    "    y_preds_new = model_0(X_test)"
   ],
   "metadata": {
    "collapsed": false,
    "ExecuteTime": {
     "end_time": "2023-06-03T14:14:23.271952600Z",
     "start_time": "2023-06-03T14:14:23.263888300Z"
    }
   }
  },
  {
   "cell_type": "code",
   "execution_count": 73,
   "outputs": [
    {
     "data": {
      "text/plain": "<Figure size 1000x700 with 1 Axes>",
      "image/png": "[encoded data removed]"
     },
     "metadata": {},
     "output_type": "display_data"
    }
   ],
   "source": [
    "plot_predictions(predictions=y_preds_new)"
   ],
   "metadata": {
    "collapsed": false,
    "ExecuteTime": {
     "end_time": "2023-06-03T14:14:24.393065700Z",
     "start_time": "2023-06-03T14:14:24.271594200Z"
    }
   }
  },
  {
   "cell_type": "code",
   "execution_count": null,
   "outputs": [],
   "source": [],
   "metadata": {
    "collapsed": false
   }
  }
 ],
 "metadata": {
  "kernelspec": {
   "display_name": "Python 3",
   "language": "python",
   "name": "python3"
  },
  "language_info": {
   "codemirror_mode": {
    "name": "ipython",
    "version": 2
   },
   "file_extension": ".py",
   "mimetype": "text/x-python",
   "name": "python",
   "nbconvert_exporter": "python",
   "pygments_lexer": "ipython2",
   "version": "2.7.6"
  }
 },
 "nbformat": 4,
 "nbformat_minor": 0
}
